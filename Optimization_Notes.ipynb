{
 "metadata": {
  "name": "",
  "signature": "sha256:d9b07d53a0609aca69f66f3395f687dccff3cdbeaeb9445c90afc3102b32f0db"
 },
 "nbformat": 3,
 "nbformat_minor": 0,
 "worksheets": [
  {
   "cells": [
    {
     "cell_type": "heading",
     "level": 2,
     "metadata": {},
     "source": [
      "Optimization Formulation"
     ]
    },
    {
     "cell_type": "markdown",
     "metadata": {},
     "source": [
      "The standard optimization is formulated as in the openopt MILP solver:\n",
      "\n",
      "$\n",
      "\\min f^Tx\\\\\n",
      "\\text{Subject to:}\\\\\n",
      "Ax \\leq b\\\\\n",
      "A_{eq} \\leq b_{eq}\\\\\n",
      "\\forall j \\in boolVars : x_j \\in \\{0, 1\\}\n",
      "$"
     ]
    },
    {
     "cell_type": "heading",
     "level": 3,
     "metadata": {},
     "source": [
      "State Vector"
     ]
    },
    {
     "cell_type": "markdown",
     "metadata": {},
     "source": [
      "We wish to minimize our cost function using the states of the system as our design variables.\n",
      "\n",
      "The state vector, $x$, is formulated as follows:\n",
      "$$\n",
      "x = \\left[ s_{-4}, s_{-3},\\ldots ,s_N\\ \\vdots\\ T_{f,0}, T_{f,1}, \\ldots , T_{f,N}\\ \\vdots\\ T_{s,0}, T_{s,1}, \\ldots , T_{s,N}\\ \\vdots\\ int_{1}, int_{2} \\ldots, int_n \\right]\n",
      "$$"
     ]
    },
    {
     "cell_type": "markdown",
     "metadata": {},
     "source": [
      "With the following defined at each timestep $k$ as:\n",
      "\n",
      "$s_k$ : Compressor state\n",
      "\n",
      "$T_{f,k}$ : Fridge temperature\n",
      "\n",
      "$T_{s,k}$ : Soda temperature\n",
      "\n",
      "$int_k$ : Intermediate variable (for cycling constraints)"
     ]
    },
    {
     "cell_type": "markdown",
     "metadata": {},
     "source": [
      "In order to properly manage the minimum compressor cycle time (as defined below) the compressor state needs to have 4 states of history, $s_{-4}\\ldots s_{-1}$, including the current state, $s_0$."
     ]
    },
    {
     "cell_type": "heading",
     "level": 3,
     "metadata": {},
     "source": [
      "Cost Vector"
     ]
    },
    {
     "cell_type": "markdown",
     "metadata": {},
     "source": [
      "The cost vector is defined as follows:\n",
      "$$\n",
      "f = \\left[ 0,0,0,0,c_0, c_1,\\ldots ,c_N\\ \\vdots\\ 0, \\ldots , 0\\ \\vdots\\ 0, \\ldots , 0\\ \\vdots\\ 0, \\ldots, 0 \\right]\n",
      "$$"
     ]
    },
    {
     "cell_type": "markdown",
     "metadata": {},
     "source": [
      "With the cost at each timestep $k$:\n",
      "$$\n",
      "c_k = \\lambda_e RS_k + \\lambda_{CI} CI_k\n",
      "$$"
     ]
    },
    {
     "cell_type": "markdown",
     "metadata": {},
     "source": [
      "With the variables defined as follows:\n",
      "\n",
      "$\\lambda_e$ : Dollar cost weight factor\n",
      "\n",
      "$\\lambda_{CI}$ : Carbon cost weight factor\n",
      "\n",
      "$RS_k$ : Dollar cost to run compressor at timestep k\n",
      "\n",
      "$CI_k$ : Carbon cost to run compressor at timestep k"
     ]
    },
    {
     "cell_type": "heading",
     "level": 3,
     "metadata": {},
     "source": [
      "Minimum 5-minute Constraints"
     ]
    },
    {
     "cell_type": "markdown",
     "metadata": {},
     "source": [
      "This constraint is accomplished through creating a separate state, $int$, which has the following property:\n",
      "$$\n",
      "int_k = \n",
      "\\begin{cases}\n",
      "    5,    & \\text{if }s_{k-1} = 0 \\text{ and } s_k = 1\\\\\n",
      "    -5,   & \\text{if }s_{k-1} = 1 \\text{ and } s_k = 0\\\\\n",
      "    0,    & \\text{else}\n",
      "\\end{cases}\n",
      "$$\n",
      "We can accomplish this with the formula:\n",
      "$$\n",
      "int_k = -5s_{k-1}+5s_k\n",
      "$$\n",
      "This creates a state that is only non-zero when the compressor turns on or off. We can then use this state in conjunction with the last 5 states of the compressor to create two inequality constraints:\n",
      "$$\n",
      "0 \\leq int_k + \\sum\\limits_{i=k-1}^{k-5} s_i \\leq 5\n",
      "$$\n",
      "The key to this method is that the constraints will fail only at the timestep where the compressor decides to change state, if all the previous timesteps are not the same value. Since these constraints must be valid for all timesteps, then this will limit our compressor cycles to a minimum of 5 minutes."
     ]
    },
    {
     "cell_type": "heading",
     "level": 3,
     "metadata": {},
     "source": [
      "State Dynamics"
     ]
    },
    {
     "cell_type": "markdown",
     "metadata": {},
     "source": [
      "The dynamics of our discrete-time state space system evolve according to the following equations:\n",
      "$$\n",
      "\\begin{align*}\n",
      "    T_s(k+1) &= A_{disc,11}T_s(k) + A_{disc,12}T_f(k)\\\\\n",
      "    T_f(k+1) &= A_{disc,21}T_s(k) + A_{disc,22}T_f(k) + b_{disc,21}T_{amb}(k) + b_{disc,22}s(k)\n",
      "\\end{align*}\n",
      "$$"
     ]
    },
    {
     "cell_type": "markdown",
     "metadata": {},
     "source": [
      "Where $A_{disc}$ and $b_{disc}$ are the discretized state-space matrices, and $T_{amb}(k)$ is the ambient temperature prediction at timestep k."
     ]
    },
    {
     "cell_type": "heading",
     "level": 3,
     "metadata": {},
     "source": [
      "Equality Constraint Formulation"
     ]
    },
    {
     "cell_type": "markdown",
     "metadata": {},
     "source": [
      "In order to properly model the evolution of the system, we break the $A_{eq}$ and $b_{eq}$ matrices into three parts: $T_s$ dynamics, $T_f$ dynamics, and $int$ evolution"
     ]
    },
    {
     "cell_type": "markdown",
     "metadata": {},
     "source": [
      "For the $T_s$ dynamics, we have the following matrices:\n",
      "$$\n",
      "A_{eq,soda} = \n",
      "\\begin{bmatrix}\n",
      "     & & \\vdots & A_{disc,12} & & & & \\vdots & A_{disc,11} & -1 & & & & \\vdots & & \\\\\n",
      "     & & \\vdots & & A_{disc,12} & & & \\vdots & & A_{disc,11} & -1 & & & \\vdots & & \\\\\n",
      "     & & \\vdots & & & \\ddots      & & \\vdots & & & \\ddots  & \\ddots & & \\vdots & & \\\\\n",
      "     & & \\vdots & & & & A_{disc,12} & \\vdots & & & & A_{disc,11} & -1 & \\vdots & & \\\\\n",
      "\\end{bmatrix}\\\\\n",
      "b_{eq,soda} =\n",
      "\\begin{bmatrix}\n",
      "    0\\\\\n",
      "    \\vdots \\\\\n",
      "    \\vdots \\\\\n",
      "    0\\\\\n",
      "\\end{bmatrix}\n",
      "$$"
     ]
    },
    {
     "cell_type": "markdown",
     "metadata": {},
     "source": [
      "For the $T_f$ dynamics, we have the following matrices:\n",
      "$$\n",
      "A_{eq,fridge} = \n",
      "\\begin{bmatrix}\n",
      "     0&0&0&0& b_{disc,22} & & & & \\vdots & A_{disc,22} & -1 & & & & \\vdots & A_{disc,21} & & & & \\vdots & & \\\\\n",
      "      & & & & & b_{disc,22} & & & \\vdots & & A_{disc,22} & -1 & & & \\vdots & & A_{disc,21} & & & \\vdots & & \\\\\n",
      "      & & & & & & \\ddots      & & \\vdots & & & \\ddots  & \\ddots & & \\vdots & & & \\ddots      & & \\vdots & & \\\\\n",
      "      & & & & & & & b_{disc,22} & \\vdots & & & & A_{disc,22} & -1 & \\vdots & & & & A_{disc,21} & \\vdots & & \\\\\n",
      "\\end{bmatrix}\\\\\n",
      "b_{eq,fridge} =\n",
      "\\begin{bmatrix}\n",
      "    -b_{disc,21}T_{amb}(0)\\\\\n",
      "    -b_{disc,21}T_{amb}(1)\\\\\n",
      "    \\vdots \\\\\n",
      "    -b_{disc,21}T_{amb}(N-1)\\\\\n",
      "\\end{bmatrix}\n",
      "$$"
     ]
    },
    {
     "cell_type": "markdown",
     "metadata": {},
     "source": [
      "For the $int$ evolution, we have the following matrices:\n",
      "$$\n",
      "A_{eq,int} = \n",
      "\\begin{bmatrix}\n",
      "     0&0&0&0& -5 & 5 & & & &          \\vdots & & & \\vdots & & & \\vdots & -1     & & & \\\\\n",
      "      & & & & & -5 & 5 & & &          \\vdots & & & \\vdots & & & \\vdots & & -1     & & \\\\\n",
      "      & & & & & & \\ddots & \\ddots & & \\vdots & & & \\vdots & & & \\vdots & & & \\ddots & \\\\\n",
      "      & & & & & & & -5 & 5 &          \\vdots & & & \\vdots & & & \\vdots & & & & -1     \n",
      "\\end{bmatrix}\\\\\n",
      "b_{eq,int} =\n",
      "\\begin{bmatrix}\n",
      "    0 \\\\\n",
      "    \\vdots \\\\\n",
      "    \\vdots \\\\\n",
      "    0\n",
      "\\end{bmatrix}\n",
      "$$"
     ]
    },
    {
     "cell_type": "markdown",
     "metadata": {},
     "source": [
      "We then program our initial conditions:\n",
      "$$\n",
      "A_{eq,0} = \n",
      "\\begin{bmatrix}\n",
      "     1 & & & & & & &   \\vdots & & & \\vdots & & & \\vdots & & \\\\\n",
      "     & 1 & & & & & &   \\vdots & & & \\vdots & & & \\vdots & & \\\\\n",
      "     & & 1 & & & & &   \\vdots & & & \\vdots & & & \\vdots & & \\\\\n",
      "     & & & 1 & & & &   \\vdots & & & \\vdots & & & \\vdots & & \\\\  \n",
      "     & & & & 1 & & &   \\vdots & & & \\vdots & & & \\vdots & & \\\\\n",
      "     \\cdots &\\cdots &\\cdots &\\cdots &\\cdots &\\cdots &\\cdots & \\vdots &\\cdots &\\cdots & \\vdots &\\cdots &\\cdots & \\vdots &\\cdots &\\cdots \\\\\n",
      "     & & & & & & &     \\vdots &1& & \\vdots & & & \\vdots & & \\\\\n",
      "     \\cdots &\\cdots &\\cdots &\\cdots &\\cdots &\\cdots &\\cdots & \\vdots &\\cdots &\\cdots & \\vdots &\\cdots &\\cdots & \\vdots &\\cdots &\\cdots \\\\\n",
      "     & & & & & & &     \\vdots & & & \\vdots &1& & \\vdots & & \\\\\n",
      "\\end{bmatrix}\\\\\n",
      "b_{eq,0} =\n",
      "\\begin{bmatrix}\n",
      "    s_{-4} \\\\\n",
      "    s_{-3} \\\\\n",
      "    \\vdots \\\\\n",
      "    s_{0}  \\\\\n",
      "    \\cdots \\\\\n",
      "    T_{f,0}\\\\\n",
      "    \\cdots \\\\\n",
      "    T_{s,0}\n",
      "\\end{bmatrix}\n",
      "$$"
     ]
    },
    {
     "cell_type": "markdown",
     "metadata": {},
     "source": [
      "We can then concatenate our matrices into:\n",
      "$$\n",
      "A_{eq} = \n",
      "\\begin{bmatrix}\n",
      "    A_{eq,soda}\\\\\n",
      "    \\cdots \\\\\n",
      "    A_{eq,fridge}\\\\\n",
      "    \\cdots \\\\\n",
      "    A_{eq,int}\\\\\n",
      "    \\cdots \\\\\n",
      "    A_{eq,0}\n",
      "\\end{bmatrix}\n",
      "\\ \\ \\ \n",
      "b_{eq} = \n",
      "\\begin{bmatrix}\n",
      "    b_{eq,soda}\\\\\n",
      "    \\cdots \\\\\n",
      "    b_{eq,fridge}\\\\\n",
      "    \\cdots \\\\\n",
      "    b_{eq,int}\\\\\n",
      "    \\cdots \\\\\n",
      "    b_{eq,0}\n",
      "\\end{bmatrix}\n",
      "$$"
     ]
    },
    {
     "cell_type": "code",
     "collapsed": false,
     "input": [],
     "language": "python",
     "metadata": {},
     "outputs": []
    }
   ],
   "metadata": {}
  }
 ]
}