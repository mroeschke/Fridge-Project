{
 "metadata": {
  "name": "",
  "signature": "sha256:d3f9f20ed554ffe72ba2628f95553599c37d824e48d2dabe6b05c6ebd001c490"
 },
 "nbformat": 3,
 "nbformat_minor": 0,
 "worksheets": [
  {
   "cells": [
    {
     "cell_type": "heading",
     "level": 3,
     "metadata": {},
     "source": [
      "Minimum 5-minute Constraints"
     ]
    },
    {
     "cell_type": "markdown",
     "metadata": {},
     "source": [
      "This constraint is accomplished through creating a separate state, $int$, which has the following property:\n",
      "$$\n",
      "int_k = \n",
      "\\begin{cases}\n",
      "    5,    & \\text{if }s_{k-1} = 0 \\text{ and } s_k = 1\\\\\n",
      "    -5,   & \\text{if }s_{k-1} = 1 \\text{ and } s_k = 0\\\\\n",
      "    0,    & \\text{else}\n",
      "\\end{cases}\n",
      "$$\n",
      "We can accomplish this with the formula:\n",
      "$$\n",
      "int_k = -5s_{k-1}+5s_k\n",
      "$$\n",
      "This creates a state that is only non-zero when the compressor turns on or off. We can then use this state in conjunction with the last 5 states of the compressor to create two inequality constraints:\n",
      "$$\n",
      "0 \\leq int_k + \\sum\\limits_{i=k-1}^{k-5} s_i \\leq 5\n",
      "$$\n",
      "The key to this method is that the constraints will fail only at the timestep where the compressor decides to change state, if all the previous timesteps are not the same value. Since these constraints must be valid for all timesteps, then this will limit our compressor cycles to a minimum of 5 minutes."
     ]
    },
    {
     "cell_type": "code",
     "collapsed": false,
     "input": [],
     "language": "python",
     "metadata": {},
     "outputs": []
    }
   ],
   "metadata": {}
  }
 ]
}