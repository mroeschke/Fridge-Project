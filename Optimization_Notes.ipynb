{
 "metadata": {
  "name": "",
  "signature": "sha256:9003e2414ed1679801c28b8481a9db6fd4ef6eb3c4a8b7d73e47508edd4dca75"
 },
 "nbformat": 3,
 "nbformat_minor": 0,
 "worksheets": [
  {
   "cells": [
    {
     "cell_type": "heading",
     "level": 2,
     "metadata": {},
     "source": [
      "Optimization Formulation"
     ]
    },
    {
     "cell_type": "markdown",
     "metadata": {},
     "source": [
      "The standard optimization is formulated as in the openopt MILP solver:\n",
      "\n",
      "$\n",
      "\\min f^Tx\\\\\n",
      "\\text{Subject to:}\\\\\n",
      "Ax \\leq b\\\\\n",
      "A_{eq} \\leq b_{eq}\\\\\n",
      "\\forall j \\in boolVars : x_j \\in \\{0, 1\\}\n",
      "$"
     ]
    },
    {
     "cell_type": "heading",
     "level": 3,
     "metadata": {},
     "source": [
      "State Vector"
     ]
    },
    {
     "cell_type": "markdown",
     "metadata": {},
     "source": [
      "We wish to minimize our cost function using the states of the system as our design variables.\n",
      "\n",
      "The state vector, $x$, is formulated as follows:\n",
      "$$\n",
      "x = \\left[ s_0, s_1,\\ldots ,s_N\\ \\vdots\\ T_{f,0}, T_{f,1}, \\ldots , T_{f,N}\\ \\vdots\\ T_{s,0}, T_{s,1}, \\ldots , T_{s,N}\\ \\vdots\\ int_0, int_1, \\ldots, int_n \\right]\n",
      "$$"
     ]
    },
    {
     "cell_type": "markdown",
     "metadata": {},
     "source": [
      "With the following defined at each timestep $k$ as:\n",
      "\n",
      "$s_k$ : Compressor state\n",
      "\n",
      "$T_{f,k}$ : Fridge temperature\n",
      "\n",
      "$T_{s,k}$ : Soda temperature\n",
      "\n",
      "$int_k$ : Intermediate variable (for cycling constraints)"
     ]
    },
    {
     "cell_type": "heading",
     "level": 3,
     "metadata": {},
     "source": [
      "Cost Vector"
     ]
    },
    {
     "cell_type": "markdown",
     "metadata": {},
     "source": [
      "The cost vector is defined as follows:\n",
      "$$\n",
      "f = \\left[ c_0, c_1,\\ldots ,c_N\\ \\vdots\\ 0, \\ldots , 0\\ \\vdots\\ 0, \\ldots , 0\\ \\vdots\\ 0, \\ldots, 0 \\right]\n",
      "$$"
     ]
    },
    {
     "cell_type": "markdown",
     "metadata": {},
     "source": [
      "With the cost at each timestep $k$:\n",
      "$$\n",
      "c_k = \\lambda_e RS_k + \\lambda_{CI} CI_k\n",
      "$$"
     ]
    },
    {
     "cell_type": "markdown",
     "metadata": {},
     "source": [
      "With the variables defined as follows:\n",
      "\n",
      "$\\lambda_e$ : Dollar cost weight factor\n",
      "\n",
      "$\\lambda_{CI}$ : Carbon cost weight factor\n",
      "\n",
      "$RS_k$ : Dollar cost to run compressor at timestep k\n",
      "\n",
      "$CI_k$ : Carbon cost to run compressor at timestep k"
     ]
    },
    {
     "cell_type": "code",
     "collapsed": false,
     "input": [],
     "language": "python",
     "metadata": {},
     "outputs": []
    },
    {
     "cell_type": "heading",
     "level": 3,
     "metadata": {},
     "source": [
      "Minimum 5-minute Constraints"
     ]
    },
    {
     "cell_type": "markdown",
     "metadata": {},
     "source": [
      "This constraint is accomplished through creating a separate state, $int$, which has the following property:\n",
      "$$\n",
      "int_k = \n",
      "\\begin{cases}\n",
      "    5,    & \\text{if }s_{k-1} = 0 \\text{ and } s_k = 1\\\\\n",
      "    -5,   & \\text{if }s_{k-1} = 1 \\text{ and } s_k = 0\\\\\n",
      "    0,    & \\text{else}\n",
      "\\end{cases}\n",
      "$$\n",
      "We can accomplish this with the formula:\n",
      "$$\n",
      "int_k = -5s_{k-1}+5s_k\n",
      "$$\n",
      "This creates a state that is only non-zero when the compressor turns on or off. We can then use this state in conjunction with the last 5 states of the compressor to create two inequality constraints:\n",
      "$$\n",
      "0 \\leq int_k + \\sum\\limits_{i=k-1}^{k-5} s_i \\leq 5\n",
      "$$\n",
      "The key to this method is that the constraints will fail only at the timestep where the compressor decides to change state, if all the previous timesteps are not the same value. Since these constraints must be valid for all timesteps, then this will limit our compressor cycles to a minimum of 5 minutes."
     ]
    },
    {
     "cell_type": "code",
     "collapsed": false,
     "input": [],
     "language": "python",
     "metadata": {},
     "outputs": []
    }
   ],
   "metadata": {}
  }
 ]
}