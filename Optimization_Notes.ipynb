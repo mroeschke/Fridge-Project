{
 "metadata": {
  "name": "",
  "signature": "sha256:7d4818a58ac669898c339589a71a3ec8a8b56174eaffc587b859bb1f072b6ea1"
 },
 "nbformat": 3,
 "nbformat_minor": 0,
 "worksheets": [
  {
   "cells": [
    {
     "cell_type": "heading",
     "level": 1,
     "metadata": {},
     "source": [
      "Optimization Formulation"
     ]
    },
    {
     "cell_type": "markdown",
     "metadata": {},
     "source": [
      "The standard optimization is formulated as in the openopt MILP solver:\n",
      "\n",
      "$\n",
      "\\min f^Tx\\\\\n",
      "\\text{Subject to:}\\\\\n",
      "Ax \\leq b\\\\\n",
      "A_{eq} \\leq b_{eq}\\\\\n",
      "\\forall j \\in boolVars : x_j \\in \\{0, 1\\}\n",
      "$"
     ]
    },
    {
     "cell_type": "heading",
     "level": 3,
     "metadata": {},
     "source": [
      "State Vector"
     ]
    },
    {
     "cell_type": "markdown",
     "metadata": {},
     "source": [
      "We wish to minimize our cost function using the states of the system as our design variables.\n",
      "\n",
      "The state vector, $x$, is formulated as follows:\n",
      "$$\n",
      "x = \\left[ s_{-4}, s_{-3},\\ldots ,s_N\\ \\vdots\\ T_{f,0}, T_{f,1}, \\ldots , T_{f,N}\\ \\vdots\\ T_{s,0}, T_{s,1}, \\ldots , T_{s,N}\\ \\vdots\\ int_{1}, int_{2} \\ldots, int_N \\right]\n",
      "$$"
     ]
    },
    {
     "cell_type": "markdown",
     "metadata": {},
     "source": [
      "======\n",
      "\n",
      "Matt's Notes: Since our temperature dynamics produces k+1 states for T_f and T_s, the final subscripts should go to N+1 instead of N (I believe)\n",
      "\n",
      "Zoltan: I think you're right...there is technically one more $T_f, T_s$ state that can be calculated given the other states at the Nth timestep. Not sure if this timestep will be useful data but we can calculate it.\n",
      "\n",
      "======"
     ]
    },
    {
     "cell_type": "markdown",
     "metadata": {},
     "source": [
      "With the following defined at each timestep $k$ as:\n",
      "\n",
      "$s_k$ : Compressor state\n",
      "\n",
      "$T_{f,k}$ : Fridge temperature\n",
      "\n",
      "$T_{s,k}$ : Soda temperature\n",
      "\n",
      "$int_k$ : Intermediate variable (for cycling constraints)"
     ]
    },
    {
     "cell_type": "markdown",
     "metadata": {},
     "source": [
      "In order to properly manage the minimum compressor cycle time (as defined below) the compressor state needs to have 4 states of history, $s_{-4}\\ldots s_{-1}$, including the current state, $s_0$."
     ]
    },
    {
     "cell_type": "markdown",
     "metadata": {},
     "source": [
      "All of the compressor states, $s_{-4} \\ldots s_N$, are defined as booleans in the $boolVars$ variable."
     ]
    },
    {
     "cell_type": "markdown",
     "metadata": {},
     "source": [
      "$N$ is our time horizon in minutes, and thus our state vector is of length $4N+7$"
     ]
    },
    {
     "cell_type": "heading",
     "level": 3,
     "metadata": {},
     "source": [
      "Cost Vector"
     ]
    },
    {
     "cell_type": "markdown",
     "metadata": {},
     "source": [
      "The cost vector is defined as follows:\n",
      "$$\n",
      "f = \\left[ 0,0,0,0,c_0, c_1,\\ldots ,c_N\\ \\vdots\\ 0, \\ldots , 0\\ \\vdots\\ 0, \\ldots , 0\\ \\vdots\\ 0, \\ldots, 0 \\right]\n",
      "$$"
     ]
    },
    {
     "cell_type": "markdown",
     "metadata": {},
     "source": [
      "With the cost at each timestep $k$:\n",
      "$$\n",
      "c_k = \\lambda_e RS_k + \\lambda_{CI} CI_k\n",
      "$$"
     ]
    },
    {
     "cell_type": "markdown",
     "metadata": {},
     "source": [
      "With the variables defined as follows:\n",
      "\n",
      "$\\lambda_e$ : Dollar cost weight factor\n",
      "\n",
      "$\\lambda_{CI}$ : Carbon cost weight factor\n",
      "\n",
      "$RS_k$ : Dollar cost to run compressor at timestep k\n",
      "\n",
      "$CI_k$ : Carbon cost to run compressor at timestep k"
     ]
    },
    {
     "cell_type": "markdown",
     "metadata": {},
     "source": [
      "======\n",
      "\n",
      "Matt's Notes:\n",
      "\n",
      "1) RS and CI are going have to be normalized. For example, if the manitude of RS is around 1 to 10 and the magitude of CI is around 100 to 1000, the magnitude of the cost fuction is still going to be skewed more by CI even if lamdas are set. \n",
      "\n",
      "Zoltan: I think that we should be able to normalize these two values with the lambdas, we can discuss tomorrow\n",
      "\n",
      "2) We still need to multiply cost fuctions by some delta t?\n",
      "\n",
      "Zoltan: Yeah, I think that the $RS_k$ and $CI_k$ values can incorporate the dt into them. I imagine that these matrix values will be interpolated/calculated from the wattTime data\n",
      "\n",
      "3) An alternative approach I was thinking of if just running two, separate optimizations: one looks at electicity cost and the other looks at carbon costs and comparing the two output controls \n",
      "\n",
      "Zoltan: I think we can try this. Using the same formulation we can set one or other of the lambdas to zero so the cost only takes into account one value.\n",
      "\n",
      "======"
     ]
    },
    {
     "cell_type": "heading",
     "level": 3,
     "metadata": {},
     "source": [
      "Minimum 5-minute Constraints"
     ]
    },
    {
     "cell_type": "markdown",
     "metadata": {},
     "source": [
      "This constraint is accomplished through creating a separate state, $int$, which has the following property:\n",
      "$$\n",
      "int_k = \n",
      "\\begin{cases}\n",
      "    5,    & \\text{if }s_{k-1} = 0 \\text{ and } s_k = 1\\\\\n",
      "    -5,   & \\text{if }s_{k-1} = 1 \\text{ and } s_k = 0\\\\\n",
      "    0,    & \\text{else}\n",
      "\\end{cases}\n",
      "$$\n",
      "We can accomplish this with the formula:\n",
      "$$\n",
      "int_k = -5s_{k-1}+5s_k\n",
      "$$\n",
      "This creates a state that is only non-zero when the compressor turns on or off. We can then use this state in conjunction with the last 5 states of the compressor to create two inequality constraints:\n",
      "$$\n",
      "0 \\leq int_k + \\sum\\limits_{i = k-1}^{k-5} s_i \\leq 5\n",
      "$$\n",
      "The key to this method is that the constraints will fail only at the timestep where the compressor decides to change state, if all the previous timesteps are not the same value. Since these constraints must be valid for all timesteps, then this will limit our compressor cycles to a minimum of 5 minutes."
     ]
    },
    {
     "cell_type": "heading",
     "level": 3,
     "metadata": {},
     "source": [
      "State Dynamics"
     ]
    },
    {
     "cell_type": "markdown",
     "metadata": {},
     "source": [
      "The dynamics of our discrete-time state space system evolve according to the following equations:\n",
      "$$\n",
      "\\begin{align*}\n",
      "    T_s(k+1) &= A_{disc,11}T_s(k) + A_{disc,12}T_f(k)\\\\\n",
      "    T_f(k+1) &= A_{disc,21}T_s(k) + A_{disc,22}T_f(k) + b_{disc,21}T_{amb}(k) + b_{disc,22}s(k)\n",
      "\\end{align*}\n",
      "$$"
     ]
    },
    {
     "cell_type": "markdown",
     "metadata": {},
     "source": [
      "Where $A_{disc}$ and $b_{disc}$ are the discretized state-space matrices, and $T_{amb}(k)$ is the ambient temperature prediction at timestep k."
     ]
    },
    {
     "cell_type": "heading",
     "level": 2,
     "metadata": {},
     "source": [
      "Equality Constraint Formulation"
     ]
    },
    {
     "cell_type": "markdown",
     "metadata": {},
     "source": [
      "In order to properly model the evolution of the system, we break the $A_{eq}$ and $b_{eq}$ matrices into three parts: $T_s$ dynamics, $T_f$ dynamics, and $int$ evolution"
     ]
    },
    {
     "cell_type": "markdown",
     "metadata": {},
     "source": [
      "For the $T_s$ dynamics, we have the following matrices:\n",
      "$$\n",
      "A_{eq,soda} = \n",
      "\\begin{bmatrix}\n",
      "     & & \\vdots & A_{disc,12} & & & & \\vdots & A_{disc,11} & -1 & & & & \\vdots & & \\\\\n",
      "     & & \\vdots & & A_{disc,12} & & & \\vdots & & A_{disc,11} & -1 & & & \\vdots & & \\\\\n",
      "     & & \\vdots & & & \\ddots      & & \\vdots & & & \\ddots  & \\ddots & & \\vdots & & \\\\\n",
      "     & & \\vdots & & & & A_{disc,12} & \\vdots & & & & A_{disc,11} & -1 & \\vdots & & \\\\\n",
      "\\end{bmatrix}\\\\\n",
      "b_{eq,soda} =\n",
      "\\begin{bmatrix}\n",
      "    0\\\\\n",
      "    \\vdots \\\\\n",
      "    \\vdots \\\\\n",
      "    0\\\\\n",
      "\\end{bmatrix}\n",
      "$$"
     ]
    },
    {
     "cell_type": "markdown",
     "metadata": {},
     "source": [
      "For the $T_f$ dynamics, we have the following matrices:\n",
      "$$\n",
      "A_{eq,fridge} = \n",
      "\\begin{bmatrix}\n",
      "     0&0&0&0& b_{disc,22} & & & & \\vdots & A_{disc,22} & -1 & & & & \\vdots & A_{disc,21} & & & & \\vdots & & \\\\\n",
      "      & & & & & b_{disc,22} & & & \\vdots & & A_{disc,22} & -1 & & & \\vdots & & A_{disc,21} & & & \\vdots & & \\\\\n",
      "      & & & & & & \\ddots      & & \\vdots & & & \\ddots  & \\ddots & & \\vdots & & & \\ddots      & & \\vdots & & \\\\\n",
      "      & & & & & & & b_{disc,22} & \\vdots & & & & A_{disc,22} & -1 & \\vdots & & & & A_{disc,21} & \\vdots & & \\\\\n",
      "\\end{bmatrix}\\\\\n",
      "b_{eq,fridge} =\n",
      "\\begin{bmatrix}\n",
      "    -b_{disc,21}T_{amb}(0)\\\\\n",
      "    -b_{disc,21}T_{amb}(1)\\\\\n",
      "    \\vdots \\\\\n",
      "    -b_{disc,21}T_{amb}(N-1)\\\\\n",
      "\\end{bmatrix}\n",
      "$$"
     ]
    },
    {
     "cell_type": "markdown",
     "metadata": {},
     "source": [
      "======\n",
      "\n",
      "Matt's Notes: For the cell below, do you need a 0 before the -1 on the first row?\n",
      "\n",
      "int_k = -5*s_k-1 + 5*s_k ---> int_k+1 = -5*s_k + 5*s_k\n",
      "\n",
      "Zoltan's Note: Ah yes...it's a subtle point but the $int$ states start at $int_1$ not $int_0$ so the -1 starts at the first column in that section. I figured that $int_0$ actually has no use since $s_0$ is already defined\n",
      "\n",
      "======"
     ]
    },
    {
     "cell_type": "markdown",
     "metadata": {},
     "source": [
      "For the $int$ evolution, we have the following matrices:\n",
      "$$\n",
      "A_{eq,int} = \n",
      "\\begin{bmatrix}\n",
      "     0&0&0&0& -5 & 5 & & & &          \\vdots & & & \\vdots & & & \\vdots & -1     & & & \\\\\n",
      "      & & & & & -5 & 5 & & &          \\vdots & & & \\vdots & & & \\vdots & & -1     & & \\\\\n",
      "      & & & & & & \\ddots & \\ddots & & \\vdots & & & \\vdots & & & \\vdots & & & \\ddots & \\\\\n",
      "      & & & & & & & -5 & 5 &          \\vdots & & & \\vdots & & & \\vdots & & & & -1     \n",
      "\\end{bmatrix}\\\\\n",
      "b_{eq,int} =\n",
      "\\begin{bmatrix}\n",
      "    0 \\\\\n",
      "    \\vdots \\\\\n",
      "    \\vdots \\\\\n",
      "    0\n",
      "\\end{bmatrix}\n",
      "$$"
     ]
    },
    {
     "cell_type": "markdown",
     "metadata": {},
     "source": [
      "We then program our initial conditions:\n",
      "$$\n",
      "A_{eq,0} = \n",
      "\\begin{bmatrix}\n",
      "     1 & & & & & & &   \\vdots & & & \\vdots & & & \\vdots & & \\\\\n",
      "     & 1 & & & & & &   \\vdots & & & \\vdots & & & \\vdots & & \\\\\n",
      "     & & 1 & & & & &   \\vdots & & & \\vdots & & & \\vdots & & \\\\\n",
      "     & & & 1 & & & &   \\vdots & & & \\vdots & & & \\vdots & & \\\\  \n",
      "     & & & & 1 & & &   \\vdots & & & \\vdots & & & \\vdots & & \\\\\n",
      "     \\cdots &\\cdots &\\cdots &\\cdots &\\cdots &\\cdots &\\cdots & \\vdots &\\cdots &\\cdots & \\vdots &\\cdots &\\cdots & \\vdots &\\cdots &\\cdots \\\\\n",
      "     & & & & & & &     \\vdots &1& & \\vdots & & & \\vdots & & \\\\\n",
      "     \\cdots &\\cdots &\\cdots &\\cdots &\\cdots &\\cdots &\\cdots & \\vdots &\\cdots &\\cdots & \\vdots &\\cdots &\\cdots & \\vdots &\\cdots &\\cdots \\\\\n",
      "     & & & & & & &     \\vdots & & & \\vdots &1& & \\vdots & & \\\\\n",
      "\\end{bmatrix}\\\\\n",
      "b_{eq,0} =\n",
      "\\begin{bmatrix}\n",
      "    s_{-4} \\\\\n",
      "    s_{-3} \\\\\n",
      "    \\vdots \\\\\n",
      "    s_{0}  \\\\\n",
      "    \\cdots \\\\\n",
      "    T_{f,0}\\\\\n",
      "    \\cdots \\\\\n",
      "    T_{s,0}\n",
      "\\end{bmatrix}\n",
      "$$\n",
      "\n"
     ]
    },
    {
     "cell_type": "markdown",
     "metadata": {},
     "source": [
      "======\n",
      "\n",
      "Matt's Comments: s_-4 to s_0 more specifically can be any combination of 1's or 0's\n",
      "\n",
      "Zoltan: Yes, these values will be stored from the previously run states of the compressor, and there is no constraints on them since they are history\n",
      "\n",
      "======"
     ]
    },
    {
     "cell_type": "markdown",
     "metadata": {},
     "source": [
      "We can then concatenate our matrices into:\n",
      "$$\n",
      "A_{eq} = \n",
      "\\begin{bmatrix}\n",
      "    A_{eq,soda}\\\\\n",
      "    \\cdots \\\\\n",
      "    A_{eq,fridge}\\\\\n",
      "    \\cdots \\\\\n",
      "    A_{eq,int}\\\\\n",
      "    \\cdots \\\\\n",
      "    A_{eq,0}\n",
      "\\end{bmatrix}\n",
      "\\ \\ \\ \n",
      "b_{eq} = \n",
      "\\begin{bmatrix}\n",
      "    b_{eq,soda}\\\\\n",
      "    \\cdots \\\\\n",
      "    b_{eq,fridge}\\\\\n",
      "    \\cdots \\\\\n",
      "    b_{eq,int}\\\\\n",
      "    \\cdots \\\\\n",
      "    b_{eq,0}\n",
      "\\end{bmatrix}\n",
      "$$"
     ]
    },
    {
     "cell_type": "code",
     "collapsed": false,
     "input": [],
     "language": "python",
     "metadata": {},
     "outputs": []
    }
   ],
   "metadata": {}
  }
 ]
}