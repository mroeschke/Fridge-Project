{
 "metadata": {
  "name": "",
  "signature": "sha256:9bb5d06abf88591592b2c48ce4a8d6ea238ac8d91ccadbb23c507077dfb44370"
 },
 "nbformat": 3,
 "nbformat_minor": 0,
 "worksheets": [
  {
   "cells": [
    {
     "cell_type": "code",
     "collapsed": false,
     "input": [
      "import openopt as opt\n",
      "import numpy as np\n",
      "import random as rnd\n",
      "import pylab as plt\n",
      "%matplotlib inline"
     ],
     "language": "python",
     "metadata": {},
     "outputs": [],
     "prompt_number": 163
    },
    {
     "cell_type": "markdown",
     "metadata": {},
     "source": [
      "We'll test the minimum compressor cycling constraints from our notes.\n",
      "\n",
      "First we'll initialize a few things:"
     ]
    },
    {
     "cell_type": "code",
     "collapsed": false,
     "input": [
      "N = 150\n",
      "vect_len = 2*N+5\n",
      "A_eq_int = np.zeros((N, vect_len))\n",
      "b_eq_int = np.zeros((N))\n",
      "A_eq_0 = np.zeros((5, vect_len))\n",
      "A = np.zeros((2*N, vect_len))\n",
      "b = np.zeros((2*N))\n",
      "intVars = range(N+5)\n",
      "ub = np.inf*np.ones((vect_len))\n",
      "ub[intVars] = 1"
     ],
     "language": "python",
     "metadata": {},
     "outputs": [],
     "prompt_number": 164
    },
    {
     "cell_type": "markdown",
     "metadata": {},
     "source": [
      "Next we define the entries in the int evolution:"
     ]
    },
    {
     "cell_type": "code",
     "collapsed": false,
     "input": [
      "for i in range(N):\n",
      "    A_eq_int[i, i+4] = -5\n",
      "    A_eq_int[i, i+5] = 5\n",
      "    A_eq_int[i, i+N+5] = -1"
     ],
     "language": "python",
     "metadata": {},
     "outputs": [],
     "prompt_number": 165
    },
    {
     "cell_type": "markdown",
     "metadata": {},
     "source": [
      "Next we define the initial conditions:"
     ]
    },
    {
     "cell_type": "code",
     "collapsed": false,
     "input": [
      "for i in range(5):\n",
      "    A_eq_0[i,i] = 1\n",
      "b_eq_0 = np.array([0,0,0,0,0])"
     ],
     "language": "python",
     "metadata": {},
     "outputs": [],
     "prompt_number": 166
    },
    {
     "cell_type": "markdown",
     "metadata": {},
     "source": [
      "And concatenate the matrices:"
     ]
    },
    {
     "cell_type": "code",
     "collapsed": false,
     "input": [
      "A_eq = np.concatenate((A_eq_int, A_eq_0), axis=0)\n",
      "b_eq = np.concatenate((b_eq_int, b_eq_0), axis=0)"
     ],
     "language": "python",
     "metadata": {},
     "outputs": [],
     "prompt_number": 167
    },
    {
     "cell_type": "markdown",
     "metadata": {},
     "source": [
      "Now we define the entries in the inequality constraints:"
     ]
    },
    {
     "cell_type": "code",
     "collapsed": false,
     "input": [
      "for i in range(N):\n",
      "    A[i, i:i+5] = 1\n",
      "    A[i, i+N+5] = 1\n",
      "    b[i] = 5\n",
      "    A[i+N, i:i+5] = -1\n",
      "    A[i+N, i+N+5] = -1\n",
      "    b[i+N] = 0"
     ],
     "language": "python",
     "metadata": {},
     "outputs": [],
     "prompt_number": 168
    },
    {
     "cell_type": "markdown",
     "metadata": {},
     "source": [
      "Now we populate f to have a couple of places that incentivize compressor on or off states:"
     ]
    },
    {
     "cell_type": "code",
     "collapsed": false,
     "input": [
      "f = np.zeros((vect_len))\n",
      "for i in range(20):\n",
      "    f[int(N*i/20)+5] = int(rnd.uniform(-2,2))"
     ],
     "language": "python",
     "metadata": {},
     "outputs": [],
     "prompt_number": 169
    },
    {
     "cell_type": "markdown",
     "metadata": {},
     "source": [
      "And then we run the optimization:"
     ]
    },
    {
     "cell_type": "code",
     "collapsed": false,
     "input": [
      "p = opt.MILP(f=f, A=A, b=b, Aeq=A_eq, beq=b_eq, ub=ub, intVars=intVars, goal='max')\n",
      "r = p.solve('lpSolve')"
     ],
     "language": "python",
     "metadata": {},
     "outputs": [
      {
       "output_type": "stream",
       "stream": "stdout",
       "text": [
        "\n",
        "------------------------- OpenOpt 0.5501 -------------------------\n",
        "solver: lpSolve   problem: unnamed    type: MILP   goal: max\n",
        " iter   objFunVal   log10(maxResidual)   \n",
        "    0  -0.000e+00            -100.00 \n",
        "    1  -0.000e+00            -100.00 "
       ]
      },
      {
       "output_type": "stream",
       "stream": "stdout",
       "text": [
        "\n",
        "istop: 1\n",
        "Solver:   Time Elapsed = 6.55 \tCPU Time Elapsed = 6.55\n",
        "objFunValue: 2 (feasible, MaxResidual = 0)\n"
       ]
      }
     ],
     "prompt_number": 170
    },
    {
     "cell_type": "code",
     "collapsed": false,
     "input": [
      "fig, (axis) = plt.subplots(2,1, sharex=True)\n",
      "fig.set_size_inches(6,6)\n",
      "t = np.array(range(N))\n",
      "axis[0].plot(t, r.xf[t+5], 'b-')\n",
      "axis[0].set_ylabel('Compressor')\n",
      "axis[0].set_ylim(-.2,1.2)\n",
      "axis[1].plot(t, r.xf[t+5+N], 'r-')\n",
      "axis[1].set_ylabel('int')\n",
      "axis[1].set_xlabel('minutes')\n",
      "plt.show()"
     ],
     "language": "python",
     "metadata": {},
     "outputs": [
      {
       "metadata": {},
       "output_type": "display_data",
       "png": "[encoded data removed]",
       "text": [
        "<matplotlib.figure.Figure at 0x1071b32d0>"
       ]
      }
     ],
     "prompt_number": 171
    },
    {
     "cell_type": "code",
     "collapsed": false,
     "input": [],
     "language": "python",
     "metadata": {},
     "outputs": [],
     "prompt_number": 171
    }
   ],
   "metadata": {}
  }
 ]
}