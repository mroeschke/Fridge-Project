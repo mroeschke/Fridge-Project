{
 "metadata": {
  "name": "",
  "signature": "sha256:c4f70371e1396b7a1ba3a4f103885c4a8b522f510f18eea68d5a8ac3c444bfc7"
 },
 "nbformat": 3,
 "nbformat_minor": 0,
 "worksheets": [
  {
   "cells": [
    {
     "cell_type": "code",
     "collapsed": false,
     "input": [
      "import openopt as opt\n",
      "import numpy as np\n",
      "import random as rnd\n",
      "import pylab as plt\n",
      "%matplotlib inline"
     ],
     "language": "python",
     "metadata": {},
     "outputs": [],
     "prompt_number": 31
    },
    {
     "cell_type": "markdown",
     "metadata": {},
     "source": [
      "We'll test the minimum compressor cycling constraints from our notes.\n",
      "\n",
      "First we'll initialize a few things:"
     ]
    },
    {
     "cell_type": "code",
     "collapsed": false,
     "input": [
      "N = 150\n",
      "vect_len = N+5\n",
      "#A_eq_int = np.zeros((N, vect_len))\n",
      "#b_eq_int = np.zeros((N))\n",
      "A_eq_0 = np.zeros((5, vect_len))\n",
      "A = np.zeros((2*N, vect_len))\n",
      "b = np.zeros((2*N))\n",
      "intVars = range(N+5)\n",
      "ub = np.inf*np.ones((vect_len))\n",
      "ub[intVars] = 1"
     ],
     "language": "python",
     "metadata": {},
     "outputs": [],
     "prompt_number": 32
    },
    {
     "cell_type": "markdown",
     "metadata": {},
     "source": [
      "Next we define the entries in the int evolution:"
     ]
    },
    {
     "cell_type": "code",
     "collapsed": false,
     "input": [
      "'''\n",
      "for i in range(N):\n",
      "    A_eq_int[i, i+4] = -5\n",
      "    A_eq_int[i, i+5] = 5\n",
      "    A_eq_int[i, i+N+5] = -1\n",
      "'''"
     ],
     "language": "python",
     "metadata": {},
     "outputs": [
      {
       "metadata": {},
       "output_type": "pyout",
       "prompt_number": 33,
       "text": [
        "'\\nfor i in range(N):\\n    A_eq_int[i, i+4] = -5\\n    A_eq_int[i, i+5] = 5\\n    A_eq_int[i, i+N+5] = -1\\n'"
       ]
      }
     ],
     "prompt_number": 33
    },
    {
     "cell_type": "markdown",
     "metadata": {},
     "source": [
      "Next we define the initial conditions:"
     ]
    },
    {
     "cell_type": "code",
     "collapsed": false,
     "input": [
      "for i in range(5):\n",
      "    A_eq_0[i,i] = 1\n",
      "b_eq_0 = np.array([0,0,0,0,0])"
     ],
     "language": "python",
     "metadata": {},
     "outputs": [],
     "prompt_number": 34
    },
    {
     "cell_type": "markdown",
     "metadata": {},
     "source": [
      "And concatenate the matrices:"
     ]
    },
    {
     "cell_type": "code",
     "collapsed": false,
     "input": [
      "A_eq = A_eq_0 #np.concatenate((A_eq_int, A_eq_0), axis=0)\n",
      "b_eq = b_eq_0 #np.concatenate((b_eq_int, b_eq_0), axis=0)"
     ],
     "language": "python",
     "metadata": {},
     "outputs": [],
     "prompt_number": 35
    },
    {
     "cell_type": "markdown",
     "metadata": {},
     "source": [
      "Now we define the entries in the inequality constraints:"
     ]
    },
    {
     "cell_type": "code",
     "collapsed": false,
     "input": [
      "for i in range(N):\n",
      "    A[i, i:i+4] = 1\n",
      "    A[i, i+4] = -4\n",
      "    A[i, i+5] = 5\n",
      "    b[i] = 5\n",
      "    A[i+N, i:i+4] = -1\n",
      "    A[i+N, i+4] = 4\n",
      "    A[i+N, i+5] = -5\n",
      "    b[i+N] = 0"
     ],
     "language": "python",
     "metadata": {},
     "outputs": [],
     "prompt_number": 36
    },
    {
     "cell_type": "markdown",
     "metadata": {},
     "source": [
      "Now we populate f to have a couple of places that incentivize compressor on or off states:"
     ]
    },
    {
     "cell_type": "code",
     "collapsed": false,
     "input": [
      "f = np.zeros((vect_len))\n",
      "for i in range(20):\n",
      "    f[int(N*i/20)+5] = rnd.uniform(-2,2)"
     ],
     "language": "python",
     "metadata": {},
     "outputs": [],
     "prompt_number": 37
    },
    {
     "cell_type": "markdown",
     "metadata": {},
     "source": [
      "And then we run the optimization:"
     ]
    },
    {
     "cell_type": "code",
     "collapsed": false,
     "input": [
      "p = opt.MILP(f=f, A=A, b=b, Aeq=A_eq, beq=b_eq, ub=ub, intVars=intVars, goal='max')\n",
      "r = p.solve('lpSolve')"
     ],
     "language": "python",
     "metadata": {},
     "outputs": [
      {
       "output_type": "stream",
       "stream": "stdout",
       "text": [
        "\n",
        "------------------------- OpenOpt 0.5501 -------------------------\n",
        "solver: lpSolve   problem: unnamed    type: MILP   goal: max\n",
        " iter   objFunVal   log10(maxResidual)   \n",
        "    0  -0.000e+00            -100.00 \n",
        "spx_run: Lost feasibility 10 times - iter      56342 and     20636 nodes.\n"
       ]
      },
      {
       "output_type": "stream",
       "stream": "stdout",
       "text": [
        "spx_run: Lost feasibility 10 times - iter     133867 and     54451 nodes.\n",
        "spx_run: Lost feasibility 10 times - iter     134644 and     54676 nodes.\n",
        "spx_run: Lost feasibility 10 times - iter     136904 and     55570 nodes.\n"
       ]
      },
      {
       "output_type": "stream",
       "stream": "stdout",
       "text": [
        "spx_run: Lost feasibility 10 times - iter     256114 and    106829 nodes.\n",
        "spx_run: Lost feasibility 10 times - iter     257008 and    107070 nodes.\n",
        "spx_run: Lost feasibility 10 times - iter     357376 and    149983 nodes.\n"
       ]
      },
      {
       "output_type": "stream",
       "stream": "stdout",
       "text": [
        "spx_run: Lost feasibility 10 times - iter     444822 and    187374 nodes.\n",
        "spx_run: Lost feasibility 10 times - iter     532113 and    224719 nodes.\n"
       ]
      },
      {
       "output_type": "stream",
       "stream": "stdout",
       "text": [
        "spx_run: Lost feasibility 10 times - iter     652920 and    277475 nodes.\n",
        "spx_run: Lost feasibility 10 times - iter     719138 and    307051 nodes.\n"
       ]
      },
      {
       "output_type": "stream",
       "stream": "stdout",
       "text": [
        "spx_run: Lost feasibility 10 times - iter     732731 and    313136 nodes.\n",
        "spx_run: Lost feasibility 10 times - iter     789090 and    337806 nodes.\n"
       ]
      },
      {
       "output_type": "stream",
       "stream": "stdout",
       "text": [
        "spx_run: Lost feasibility 10 times - iter     791895 and    339094 nodes.\n",
        "spx_run: Lost feasibility 10 times - iter     795830 and    340874 nodes.\n"
       ]
      },
      {
       "output_type": "stream",
       "stream": "stdout",
       "text": [
        "spx_run: Lost feasibility 10 times - iter     814204 and    348701 nodes.\n",
        "spx_run: Lost feasibility 10 times - iter     885050 and    380403 nodes.\n"
       ]
      },
      {
       "output_type": "stream",
       "stream": "stdout",
       "text": [
        "spx_run: Lost feasibility 10 times - iter     885056 and    380405 nodes.\n",
        "spx_run: Lost feasibility 10 times - iter     885075 and    380413 nodes.\n",
        "spx_run: Lost feasibility 10 times - iter     896232 and    385636 nodes.\n"
       ]
      },
      {
       "output_type": "stream",
       "stream": "stdout",
       "text": [
        "spx_run: Lost feasibility 10 times - iter     901393 and    387784 nodes.\n",
        "spx_run: Lost feasibility 10 times - iter     961070 and    414029 nodes.\n"
       ]
      },
      {
       "output_type": "stream",
       "stream": "stdout",
       "text": [
        "spx_run: Lost feasibility 10 times - iter     996557 and    430208 nodes.\n",
        "spx_run: Lost feasibility 10 times - iter    1085008 and    469598 nodes.\n"
       ]
      },
      {
       "output_type": "stream",
       "stream": "stdout",
       "text": [
        "spx_run: Lost feasibility 10 times - iter    1137495 and    492737 nodes.\n",
        "spx_run: Lost feasibility 10 times - iter    1151176 and    498858 nodes.\n"
       ]
      },
      {
       "output_type": "stream",
       "stream": "stdout",
       "text": [
        "spx_run: Lost feasibility 10 times - iter    1232543 and    535187 nodes.\n",
        "spx_run: Lost feasibility 10 times - iter    1339984 and    582040 nodes.\n"
       ]
      },
      {
       "output_type": "stream",
       "stream": "stdout",
       "text": [
        "spx_run: Lost feasibility 10 times - iter    1348110 and    585475 nodes.\n",
        "spx_run: Lost feasibility 10 times - iter    1423180 and    617631 nodes.\n"
       ]
      },
      {
       "output_type": "stream",
       "stream": "stdout",
       "text": [
        "spx_run: Lost feasibility 10 times - iter    1425963 and    618911 nodes.\n",
        "spx_run: Lost feasibility 10 times - iter    1429879 and    620683 nodes.\n"
       ]
      },
      {
       "output_type": "stream",
       "stream": "stdout",
       "text": [
        "spx_run: Lost feasibility 10 times - iter    1448260 and    628478 nodes.\n",
        "spx_run: Lost feasibility 10 times - iter    1518439 and    659750 nodes.\n"
       ]
      },
      {
       "output_type": "stream",
       "stream": "stdout",
       "text": [
        "spx_run: Lost feasibility 10 times - iter    1518445 and    659752 nodes.\n",
        "spx_run: Lost feasibility 10 times - iter    1518464 and    659760 nodes.\n",
        "spx_run: Lost feasibility 10 times - iter    1520287 and    660516 nodes.\n"
       ]
      },
      {
       "output_type": "stream",
       "stream": "stdout",
       "text": [
        "spx_run: Lost feasibility 10 times - iter    1532233 and    665719 nodes.\n",
        "spx_run: Lost feasibility 10 times - iter    1587651 and    690209 nodes.\n"
       ]
      },
      {
       "output_type": "stream",
       "stream": "stdout",
       "text": [
        "spx_run: Lost feasibility 10 times - iter    1623079 and    706408 nodes.\n",
        "spx_run: Lost feasibility 10 times - iter    1624455 and    706879 nodes.\n"
       ]
      },
      {
       "output_type": "stream",
       "stream": "stdout",
       "text": [
        "spx_run: Lost feasibility 10 times - iter    1684292 and    733520 nodes.\n",
        "spx_run: Lost feasibility 10 times - iter    1697880 and    739605 nodes.\n"
       ]
      },
      {
       "output_type": "stream",
       "stream": "stdout",
       "text": [
        "spx_run: Lost feasibility 10 times - iter    1765396 and    768428 nodes.\n",
        "spx_run: Lost feasibility 10 times - iter    1800885 and    784607 nodes.\n"
       ]
      },
      {
       "output_type": "stream",
       "stream": "stdout",
       "text": [
        "spx_run: Lost feasibility 10 times - iter    1889357 and    823995 nodes.\n",
        "spx_run: Lost feasibility 10 times - iter    1941789 and    847122 nodes.\n"
       ]
      },
      {
       "output_type": "stream",
       "stream": "stdout",
       "text": [
        "spx_run: Lost feasibility 10 times - iter    1955470 and    853243 nodes.\n",
        "spx_run: Lost feasibility 10 times - iter    2036838 and    889572 nodes.\n"
       ]
      },
      {
       "output_type": "stream",
       "stream": "stdout",
       "text": [
        "spx_run: Lost feasibility 10 times - iter    2144293 and    936435 nodes.\n",
        "spx_run: Lost feasibility 10 times - iter    2152419 and    939870 nodes.\n"
       ]
      },
      {
       "output_type": "stream",
       "stream": "stdout",
       "text": [
        "spx_run: Lost feasibility 10 times - iter    2227494 and    972032 nodes.\n",
        "spx_run: Lost feasibility 10 times - iter    2230277 and    973312 nodes.\n"
       ]
      },
      {
       "output_type": "stream",
       "stream": "stdout",
       "text": [
        "spx_run: Lost feasibility 10 times - iter    2234193 and    975084 nodes.\n",
        "spx_run: Lost feasibility 10 times - iter    2252573 and    982879 nodes.\n"
       ]
      },
      {
       "output_type": "stream",
       "stream": "stdout",
       "text": [
        "spx_run: Lost feasibility 10 times - iter    2322754 and   1014151 nodes.\n",
        "spx_run: Lost feasibility 10 times - iter    2322760 and   1014153 nodes.\n",
        "spx_run: Lost feasibility 10 times - iter    2322779 and   1014161 nodes.\n",
        "spx_run: Lost feasibility 10 times - iter    2324602 and   1014917 nodes.\n"
       ]
      },
      {
       "output_type": "stream",
       "stream": "stdout",
       "text": [
        "spx_run: Lost feasibility 10 times - iter    2336548 and   1020120 nodes.\n",
        "spx_run: Lost feasibility 10 times - iter    2391975 and   1044610 nodes.\n"
       ]
      },
      {
       "output_type": "stream",
       "stream": "stdout",
       "text": [
        "spx_run: Lost feasibility 10 times - iter    2427401 and   1060809 nodes.\n",
        "spx_run: Lost feasibility 10 times - iter    2428777 and   1061280 nodes.\n"
       ]
      },
      {
       "output_type": "stream",
       "stream": "stdout",
       "text": [
        "spx_run: Lost feasibility 10 times - iter    2488672 and   1087935 nodes.\n",
        "spx_run: Lost feasibility 10 times - iter    2502310 and   1094032 nodes.\n"
       ]
      },
      {
       "output_type": "stream",
       "stream": "stdout",
       "text": [
        "spx_run: Lost feasibility 10 times - iter    2569800 and   1122846 nodes.\n",
        "spx_run: Lost feasibility 10 times - iter    2605287 and   1139025 nodes.\n"
       ]
      },
      {
       "output_type": "stream",
       "stream": "stdout",
       "text": [
        "spx_run: Lost feasibility 10 times - iter    2693735 and   1178413 nodes.\n",
        "    1  -0.000e+00            -100.00 "
       ]
      },
      {
       "output_type": "stream",
       "stream": "stdout",
       "text": [
        "\n",
        "istop: 1\n",
        "Solver:   Time Elapsed = 150.0 \tCPU Time Elapsed = 149.97\n",
        "objFunValue: 9.0688387 (feasible, MaxResidual = 0)\n"
       ]
      }
     ],
     "prompt_number": 38
    },
    {
     "cell_type": "code",
     "collapsed": false,
     "input": [
      "fig, (axis) = plt.subplots(2,1, sharex=True)\n",
      "fig.set_size_inches(6,6)\n",
      "t = np.array(range(N))\n",
      "axis[0].plot(t, r.xf[t+5], 'b-')\n",
      "axis[0].set_ylabel('Compressor')\n",
      "axis[0].set_ylim(-.2,1.2)\n",
      "'''\n",
      "axis[1].plot(t, r.xf[t+5+N], 'r-')\n",
      "axis[1].set_ylabel('int')\n",
      "axis[1].set_xlabel('minutes')\n",
      "'''\n",
      "plt.show()"
     ],
     "language": "python",
     "metadata": {},
     "outputs": [
      {
       "metadata": {},
       "output_type": "display_data",
       "png": "[encoded data removed]",
       "text": [
        "<matplotlib.figure.Figure at 0x10f153710>"
       ]
      }
     ],
     "prompt_number": 39
    },
    {
     "cell_type": "code",
     "collapsed": false,
     "input": [
      "'%.5E' % decimal(2**1100)"
     ],
     "language": "python",
     "metadata": {},
     "outputs": [
      {
       "ename": "NameError",
       "evalue": "name 'decimal' is not defined",
       "output_type": "pyerr",
       "traceback": [
        "\u001b[0;31m---------------------------------------------------------------------------\u001b[0m\n\u001b[0;31mNameError\u001b[0m                                 Traceback (most recent call last)",
        "\u001b[0;32m<ipython-input-5-d7a0d47f0d19>\u001b[0m in \u001b[0;36m<module>\u001b[0;34m()\u001b[0m\n\u001b[0;32m----> 1\u001b[0;31m \u001b[0;34m'%.5E'\u001b[0m \u001b[0;34m%\u001b[0m \u001b[0mdecimal\u001b[0m\u001b[0;34m(\u001b[0m\u001b[0;36m2\u001b[0m\u001b[0;34m**\u001b[0m\u001b[0;36m1100\u001b[0m\u001b[0;34m)\u001b[0m\u001b[0;34m\u001b[0m\u001b[0m\n\u001b[0m",
        "\u001b[0;31mNameError\u001b[0m: name 'decimal' is not defined"
       ]
      }
     ],
     "prompt_number": 5
    },
    {
     "cell_type": "code",
     "collapsed": false,
     "input": [],
     "language": "python",
     "metadata": {},
     "outputs": []
    }
   ],
   "metadata": {}
  }
 ]
}